{
  "nbformat": 4,
  "nbformat_minor": 0,
  "metadata": {
    "colab": {
      "provenance": [],
      "authorship_tag": "ABX9TyOFQgr9nOo0siP2CqTt4Y7z",
      "include_colab_link": true
    },
    "kernelspec": {
      "name": "python3",
      "display_name": "Python 3"
    },
    "language_info": {
      "name": "python"
    }
  },
  "cells": [
    {
      "cell_type": "markdown",
      "metadata": {
        "id": "view-in-github",
        "colab_type": "text"
      },
      "source": [
        "<a href=\"https://colab.research.google.com/github/akshatsingh523/Deep-Learning-Udacity-/blob/main/gradient_descent_nerualnetworks.ipynb\" target=\"_parent\"><img src=\"https://colab.research.google.com/assets/colab-badge.svg\" alt=\"Open In Colab\"/></a>"
      ]
    },
    {
      "cell_type": "code",
      "execution_count": 2,
      "metadata": {
        "id": "stErNvkbh0Em"
      },
      "outputs": [],
      "source": [
        "import numpy as np \n",
        "def sigmoid(x):\n",
        "  return 1/(1+np.exp(-x))\n",
        "\n",
        "def sigmoid_prime(x):\n",
        "  return sigmoid(x)*(1-sigmoid(x));\n",
        "\n",
        "learnrate=0.5;\n",
        "x=np.array([1,2,3,4]);\n",
        "y=np.array([0.5]);\n",
        "\n",
        "w=np.array([0.5,-0.5,0.3,0.1])"
      ]
    },
    {
      "cell_type": "code",
      "source": [
        "h=np.dot(x,w)"
      ],
      "metadata": {
        "id": "wSjCUt6Dh3_D"
      },
      "execution_count": 3,
      "outputs": []
    },
    {
      "cell_type": "code",
      "source": [
        "nn_output=sigmoid(h)\n",
        "error=y-nn_output\n",
        "error_term=error*sigmoid_prime(x)\n"
      ],
      "metadata": {
        "id": "y64m6R6xh4Bc"
      },
      "execution_count": 4,
      "outputs": []
    },
    {
      "cell_type": "code",
      "source": [
        "del_w=learnrate*error_term*x;"
      ],
      "metadata": {
        "id": "TPlnZL0zh4D8"
      },
      "execution_count": 5,
      "outputs": []
    },
    {
      "cell_type": "code",
      "source": [
        "print('Neural Network output:')\n",
        "print(nn_output)\n",
        "print('Amount of Error:')\n",
        "print(error)\n",
        "print('Change in Weights:')\n",
        "print(del_w)"
      ],
      "metadata": {
        "colab": {
          "base_uri": "https://localhost:8080/"
        },
        "id": "njzYH2JMh4Gi",
        "outputId": "dfc0e49f-9530-466d-bbcc-9f3bb8aaa9e9"
      },
      "execution_count": 6,
      "outputs": [
        {
          "output_type": "stream",
          "name": "stdout",
          "text": [
            "Neural Network output:\n",
            "0.6899744811276125\n",
            "Amount of Error:\n",
            "[-0.18997448]\n",
            "Change in Weights:\n",
            "[-0.01867563 -0.0199461  -0.01287362 -0.00671093]\n"
          ]
        }
      ]
    },
    {
      "cell_type": "code",
      "source": [],
      "metadata": {
        "id": "jZDz0qebh4JD"
      },
      "execution_count": null,
      "outputs": []
    },
    {
      "cell_type": "code",
      "source": [],
      "metadata": {
        "id": "YI2VBkayh4LV"
      },
      "execution_count": null,
      "outputs": []
    },
    {
      "cell_type": "code",
      "source": [],
      "metadata": {
        "id": "BcXtIPXWh4N_"
      },
      "execution_count": null,
      "outputs": []
    },
    {
      "cell_type": "code",
      "source": [],
      "metadata": {
        "id": "D-d55fYmh4Qh"
      },
      "execution_count": null,
      "outputs": []
    }
  ]
}